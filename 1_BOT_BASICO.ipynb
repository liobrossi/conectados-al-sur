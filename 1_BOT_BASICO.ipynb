{
  "nbformat": 4,
  "nbformat_minor": 0,
  "metadata": {
    "colab": {
      "name": "1.BOT_BASICO.ipynb",
      "version": "0.3.2",
      "provenance": [],
      "include_colab_link": true
    },
    "kernelspec": {
      "name": "python3",
      "display_name": "Python 3"
    }
  },
  "cells": [
    {
      "cell_type": "markdown",
      "metadata": {
        "id": "view-in-github",
        "colab_type": "text"
      },
      "source": [
        "<a href=\"https://colab.research.google.com/github/liobrossi/conectados-al-sur/blob/master/1_BOT_BASICO.ipynb\" target=\"_parent\"><img src=\"https://colab.research.google.com/assets/colab-badge.svg\" alt=\"Open In Colab\"/></a>"
      ]
    },
    {
      "cell_type": "markdown",
      "metadata": {
        "id": "x-e_lHn9JCPH",
        "colab_type": "text"
      },
      "source": [
        "# BOT BÁSICO"
      ]
    },
    {
      "cell_type": "markdown",
      "metadata": {
        "id": "NvZ_lX3gJIzt",
        "colab_type": "text"
      },
      "source": [
        "## Importar Librerías"
      ]
    },
    {
      "cell_type": "code",
      "metadata": {
        "id": "tj70QZRSIxj-",
        "colab_type": "code",
        "colab": {}
      },
      "source": [
        "import time\n"
      ],
      "execution_count": 0,
      "outputs": []
    },
    {
      "cell_type": "code",
      "metadata": {
        "id": "kUBqB65aI0AR",
        "colab_type": "code",
        "colab": {}
      },
      "source": [
        "import random"
      ],
      "execution_count": 0,
      "outputs": []
    },
    {
      "cell_type": "markdown",
      "metadata": {
        "id": "5VR6VDF7JOwT",
        "colab_type": "text"
      },
      "source": [
        "Generar una pregunta y archivar la respuesta en una variable"
      ]
    },
    {
      "cell_type": "code",
      "metadata": {
        "id": "DKok65w_I7eY",
        "colab_type": "code",
        "colab": {
          "base_uri": "https://localhost:8080/",
          "height": 34
        },
        "outputId": "4383bb0d-2c46-47be-96c5-7ba61c78c879"
      },
      "source": [
        "name = input(\"Hola, Cómo te llamas? \")"
      ],
      "execution_count": 3,
      "outputs": [
        {
          "output_type": "stream",
          "text": [
            "Hello, what is your name? Lio\n"
          ],
          "name": "stdout"
        }
      ]
    },
    {
      "cell_type": "markdown",
      "metadata": {
        "id": "20o5fZyAJX3t",
        "colab_type": "text"
      },
      "source": [
        "A continuación, queremos dar al usuario una mínima impresión de que está conversando con una persona real, por lo tanto, debemos poner una pausa entre cada pregunta / respuesta nueva. Para hacer esto, usaremos el objeto tiempo time.sleep (). "
      ]
    },
    {
      "cell_type": "code",
      "metadata": {
        "id": "9np1Y1GPKMnp",
        "colab_type": "code",
        "colab": {}
      },
      "source": [
        ""
      ],
      "execution_count": 0,
      "outputs": []
    },
    {
      "cell_type": "code",
      "metadata": {
        "id": "6e_pt0wyJvew",
        "colab_type": "code",
        "colab": {}
      },
      "source": [
        "time.sleep(2)"
      ],
      "execution_count": 0,
      "outputs": []
    },
    {
      "cell_type": "markdown",
      "metadata": {
        "id": "qnQIo50vKD4k",
        "colab_type": "text"
      },
      "source": [
        "A continuación, necesitamos crear una respuesta desde la computadora. Queremos que la respuesta sea personalizada, por lo que agregaremos el nombre de los usuarios al final de la respuesta. Para hacer esto, usaremos el comando de concatenación \"+\""
      ]
    },
    {
      "cell_type": "code",
      "metadata": {
        "id": "QARhVj9_KNX_",
        "colab_type": "code",
        "colab": {
          "base_uri": "https://localhost:8080/",
          "height": 34
        },
        "outputId": "8ad35baf-0d23-44d1-fa17-a485337b4e8d"
      },
      "source": [
        "\t\n",
        "print(\"Hola \" + name)"
      ],
      "execution_count": 12,
      "outputs": [
        {
          "output_type": "stream",
          "text": [
            "Hola Lio\n"
          ],
          "name": "stdout"
        }
      ]
    },
    {
      "cell_type": "markdown",
      "metadata": {
        "id": "fFEC7pjlKT90",
        "colab_type": "text"
      },
      "source": [
        "Hola vamos a hacer que el ordenador pregunte al usuario Cómo se siente, y archivaremos la respuesta en la variable \"siente\""
      ]
    },
    {
      "cell_type": "code",
      "metadata": {
        "id": "mziaAmXkK58Y",
        "colab_type": "code",
        "colab": {
          "base_uri": "https://localhost:8080/",
          "height": 34
        },
        "outputId": "1895919e-7644-4dc8-aa13-f97e0cb94fed"
      },
      "source": [
        "siente = input(\"Cómo te sientes hoy? \")\n",
        "time.sleep(2)"
      ],
      "execution_count": 13,
      "outputs": [
        {
          "output_type": "stream",
          "text": [
            "Cómo te sientes hoy? bien\n"
          ],
          "name": "stdout"
        }
      ]
    },
    {
      "cell_type": "markdown",
      "metadata": {
        "id": "9rTh2KNlLE3v",
        "colab_type": "text"
      },
      "source": [
        "A continuación, tenemos que crear una respuesta. Para que el bot parezca más \"humano\", necesitamos un conjunto de respuestas diferentes. Para hacer esto, usaremos una sentencia \"if\" que es un condicional. Comenzaremos con la respuesta para 'si' el usuario se siente \"bien\". "
      ]
    },
    {
      "cell_type": "code",
      "metadata": {
        "id": "KbB1agRHLWbZ",
        "colab_type": "code",
        "colab": {
          "base_uri": "https://localhost:8080/",
          "height": 34
        },
        "outputId": "88f91a32-12da-40f6-84ab-118a1472ef90"
      },
      "source": [
        "if \"bien\" in siente:\n",
        "    print(\"Yo también me siento bien!\")\n",
        "else:\n",
        "    print(\"Ohhh, lo siento mucho!\")"
      ],
      "execution_count": 14,
      "outputs": [
        {
          "output_type": "stream",
          "text": [
            "Yo también me siento bien!\n"
          ],
          "name": "stdout"
        }
      ]
    },
    {
      "cell_type": "markdown",
      "metadata": {
        "id": "ssVZO40lL0jg",
        "colab_type": "text"
      },
      "source": [
        "Hasta ahora, hay muy poca variación en nuestras respuestas. Para que nuestro bot de chat parezca más humano, vamos a agregar una lista de posibles respuestas al azar.\n",
        "Primero, vamos a agregar una entrada para que el bot pida al usuario que ingrese su color favorito (recordando agregar una pausa natural):"
      ]
    },
    {
      "cell_type": "code",
      "metadata": {
        "id": "dmb1ZwrYMOEE",
        "colab_type": "code",
        "colab": {
          "base_uri": "https://localhost:8080/",
          "height": 34
        },
        "outputId": "f0a98615-8d28-45b9-ec8b-aa1815061ae9"
      },
      "source": [
        "time.sleep(2)\n",
        "favcolor = input(\"Cuál es tu color favorito? \")"
      ],
      "execution_count": 15,
      "outputs": [
        {
          "output_type": "stream",
          "text": [
            "Cuál es tu color favorito? rosa\n"
          ],
          "name": "stdout"
        }
      ]
    },
    {
      "cell_type": "markdown",
      "metadata": {
        "id": "lMKp6xQSMY--",
        "colab_type": "text"
      },
      "source": [
        "Crear una lista de posibles respuestas:"
      ]
    },
    {
      "cell_type": "code",
      "metadata": {
        "id": "HfeWVNmVMdji",
        "colab_type": "code",
        "colab": {}
      },
      "source": [
        "colours = [\"rosa\",\"verde\",\"negro\",\"rojo\",\"azul\",\"amarillo\",\"anaranjado\",\"fucsia\",\"blanco\"]"
      ],
      "execution_count": 0,
      "outputs": []
    },
    {
      "cell_type": "code",
      "metadata": {
        "id": "-4IPtJKrM_oP",
        "colab_type": "code",
        "colab": {}
      },
      "source": [
        "time.sleep(2)\n",
        "print(\"My favourite colour is \" + random.choice(colours))"
      ],
      "execution_count": 0,
      "outputs": []
    },
    {
      "cell_type": "markdown",
      "metadata": {
        "id": "kAIZzktSNFQx",
        "colab_type": "text"
      },
      "source": [
        "El código final debería verse como este:"
      ]
    },
    {
      "cell_type": "code",
      "metadata": {
        "id": "OwbGBjVVNV-2",
        "colab_type": "code",
        "colab": {
          "base_uri": "https://localhost:8080/",
          "height": 119
        },
        "outputId": "b8592cc6-2bdc-4fe7-e3e9-81a326079106"
      },
      "source": [
        "import time\n",
        "import random\n",
        "\n",
        "name = input(\"Hola, Cómo te llamas? \")\n",
        "\n",
        "time.sleep(2)\n",
        "print(\"Hola \" + name)\n",
        "\n",
        "sentir = input(\"How are you today? \")\n",
        "\n",
        "time.sleep(2)\n",
        "if \"bien\" in sentir:\n",
        "    print(\"Super! También me siento bien\")\n",
        "else:\n",
        "    print(\"Ohhh lo siento!\")\n",
        "\n",
        "time.sleep(2)\n",
        "favcolour = input(\"Cuál es tu color favorito? \")\n",
        "\n",
        "colours = [\"rosa\",\"verde\",\"negro\",\"rojo\",\"azul\",\"amarillo\",\"anaranjado\",\"fucsia\",\"blanco\"]\n",
        "\n",
        "time.sleep(2)\n",
        "print(\"Mi color favorito es \" + random.choice(colours))"
      ],
      "execution_count": 17,
      "outputs": [
        {
          "output_type": "stream",
          "text": [
            "Hola, Cómo te llamas? Lio\n",
            "Hola Lio\n",
            "How are you today? bien\n",
            "Super! También me siento bien\n",
            "Cuál es tu color favorito? negro\n",
            "Mi color favorito es verde\n"
          ],
          "name": "stdout"
        }
      ]
    },
    {
      "cell_type": "markdown",
      "metadata": {
        "id": "4iRw2WEnOz9Y",
        "colab_type": "text"
      },
      "source": [
        "Hay un problema con el código. El código en Python distingue entre mayúsculas y minúsculas, por lo tanto, si tuviéramos que escribir \"Bueno\" (en mayúsculas) en lugar de \"bueno\" en respuesta a la pregunta \"¿Cómo te sientes?\" Python no encontrará una coincidencia y, por lo tanto, responderá con \"¡Lamento escuchar eso!\". Para solucionar este problema, podemos convertir la respuesta de los usuarios a minúsculas usando el comando \"lower ()\". "
      ]
    },
    {
      "cell_type": "code",
      "metadata": {
        "id": "HXdjO32jPBlX",
        "colab_type": "code",
        "colab": {
          "base_uri": "https://localhost:8080/",
          "height": 34
        },
        "outputId": "e66c893f-b94c-4e4c-a10e-3a149d8746ad"
      },
      "source": [
        "if \"bien\" in siente.lower():\n",
        "    print(\"I'm feeling good too!\")"
      ],
      "execution_count": 19,
      "outputs": [
        {
          "output_type": "stream",
          "text": [
            "I'm feeling good too!\n"
          ],
          "name": "stdout"
        }
      ]
    },
    {
      "cell_type": "markdown",
      "metadata": {
        "id": "h5IjgkGTPTYK",
        "colab_type": "text"
      },
      "source": [
        "Si queremos agregar otras posibles respuestas a la pregunta ¿Cómo te sientes?:"
      ]
    },
    {
      "cell_type": "code",
      "metadata": {
        "id": "Oy21IUdePY21",
        "colab_type": "code",
        "colab": {
          "base_uri": "https://localhost:8080/",
          "height": 51
        },
        "outputId": "e4fed0ba-6fb6-47e9-f023-b73f86215d74"
      },
      "source": [
        "siente = input(\"Cómo estás hoy? \")\n",
        "if \"bien\" in siente.lower():\n",
        "    print(\"Super! también me siento bien!\")\n",
        "elif \"genial\" in siente:\n",
        "    print(\"Bien por ti!\")\n",
        "else:\n",
        "    print(\"Lamento escuchar eso!\")"
      ],
      "execution_count": 23,
      "outputs": [
        {
          "output_type": "stream",
          "text": [
            "Cómo estás hoy? BIEN\n",
            "Super! también me siento bien!\n"
          ],
          "name": "stdout"
        }
      ]
    },
    {
      "cell_type": "markdown",
      "metadata": {
        "id": "l2p-sktpQjo6",
        "colab_type": "text"
      },
      "source": [
        "## IF - ELIF- ELSE\n",
        "\n",
        "\n",
        "La primera forma if-if-if evalúa todas las condiciones, mientras que la segunda if-elif-else solo evalúa las necesarias: si encuentra una condición que es verdadera, se detiene y no evalúa el resto. En otras palabras: if-elif-else se usa cuando las condiciones son mutuamente excluyentes."
      ]
    },
    {
      "cell_type": "markdown",
      "metadata": {
        "id": "brtlcZtSRDQQ",
        "colab_type": "text"
      },
      "source": [
        "EXTENSIÓN:\n",
        "\n",
        "Agregar más preguntas y respuestas\n",
        "Comentar cómo funciona el código\n",
        "\n",
        "*   Agregar más preguntas y respuestas.\n",
        "*   Explicar cómo funciona cada parte del código.\n",
        "*   Crear un nuevo chatbot en relación a temas del proyecto grupal.\n",
        "\n",
        "\n",
        "\n",
        "\n",
        "\n",
        "\n",
        "\n"
      ]
    }
  ]
}